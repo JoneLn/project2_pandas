{
 "cells": [
  {
   "cell_type": "markdown",
   "source": [
    "# 数据排序和排名\r\n",
    "\r\n",
    "主要函数\r\n",
    "\r\n",
    "```python\r\n",
    "df.sort_values()\r\n",
    "df.groupby()\r\n",
    "df.rank()\r\n",
    "```"
   ],
   "metadata": {}
  },
  {
   "cell_type": "code",
   "execution_count": null,
   "source": [
    "import pandas as pd\r\n",
    "pd.set_option('display.unicode.east_asian_width',True)\r\n",
    "\r\n",
    "df = pd.read_excel('F:/project2_pandas/Python数据分析从入门到精通/MR/Code/03/46/mrbook.xlsx')\r\n",
    "\r\n",
    "df.head()\r\n"
   ],
   "outputs": [],
   "metadata": {}
  },
  {
   "cell_type": "markdown",
   "source": [
    "## 数据排序\r\n",
    "```python\r\n",
    "df.sort_values(by, axis=0, ascending=True, inplace=False, \r\n",
    "                kind='quicksort', na_position='last', ignore_index=False)\r\n",
    "```\r\n",
    "参数解释：\r\n",
    "\r\n",
    "by: 按照哪一列进行排序。单独一列为`by='colummn'`，多列排序为`by = ['column1','column2']；\r\n",
    "\r\n",
    "axis=0: 默认对行进行排序，`axis=1`代表对列进行排序；\r\n",
    "\r\n",
    "ascending=Ture: 默认升序排列，`ascending=False`代表降序排列；\r\n",
    "\r\n",
    "inplace=False: 默认排序功能不对原表格进行替代，需要重新赋值到另一个表格参数以保存排序结果。`inplace=Ture`直接将排序结果保存到原表格之中。\r\n",
    "\r\n",
    "kind='quicksort':  默认排序方式为快速排序。`'mergesort'`混合排序，`'heapsort'`堆排；\r\n",
    "\r\n",
    "na_position='last': 默认空值排在最后，`na_position='fisrt'`空值在最前；\r\n",
    "\r\n",
    "ignore_index=False: 默认忽略索引，不再重新设置索引。`'ignore_index=True'`表示重新按照表格顺序排列行索引。"
   ],
   "metadata": {}
  },
  {
   "cell_type": "code",
   "execution_count": null,
   "source": [
    "\r\n",
    "\r\n",
    "df1 = df.sort_values(by = '销量')\r\n",
    "print(df1.head())\r\n",
    "\r\n",
    "\r\n",
    "df2 = df.sort_values(by='销量',ignore_index=True)\r\n",
    "df2.head()\r\n"
   ],
   "outputs": [],
   "metadata": {}
  },
  {
   "cell_type": "markdown",
   "source": [
    "## 分组汇总\r\n",
    "\r\n",
    "```python\r\n",
    "df2 = df.groupby(['column1'])['column2'].sum().reset_index()\r\n",
    "```\r\n"
   ],
   "metadata": {}
  },
  {
   "cell_type": "code",
   "execution_count": null,
   "source": [
    "df2 = df.groupby(['图书名称'])['销量'].sum().reset_index()\r\n",
    "df2.sort_values(by='销量',ascending=False)\r\n",
    "df2.head()"
   ],
   "outputs": [],
   "metadata": {}
  },
  {
   "cell_type": "markdown",
   "source": [
    "## 数据排名\r\n",
    "\r\n",
    "```python\r\n",
    "df.rank(axis=0,method='average',numeric_only=None,na_option='keep',ascending=True,pct=False)\r\n",
    "```\r\n",
    "\r\n",
    "参数解析：\r\n",
    "\r\n",
    "axis=0: 默认对行数据。`axis=1`对列数据排序；\r\n",
    "\r\n",
    "method='average': 在有相同值的情况下的排序方式：\r\n",
    "\r\n",
    "                    average:默认值，平均排名\r\n",
    "\r\n",
    "                    min:最小值排名\r\n",
    "\r\n",
    "                    max：最大值排名\r\n",
    "\r\n",
    "                    first: 按值在原始数据中出现的顺序分配排名\r\n",
    "\r\n",
    "                    dense：密集排名，类似于最小值排名，但是排名每次只增加1，即排名相同的数据只占一个名次。\r\n",
    "\r\n",
    "numeric_only=None: 默认值可以对任意列进行排名，`numeric_only=True`表示只对数字列进行排名；\r\n",
    "\r\n",
    "na_optin='keep': 在存在空值的情况下的空值行排序方式\r\n",
    "\r\n",
    "                    keep: 默认值，将空值等级赋值给NaN值\r\n",
    "\r\n",
    "                    top：如果按升序排序，则将最小排名赋值给NaN值\r\n",
    "\r\n",
    "                    bottom: 如果按升序排序，则将最大值排名赋值给NaN值\r\n",
    "                    \r\n",
    "ascending=True: 默认升序排序。指定多个排序可以使用布尔值列表。\r\n",
    "\r\n",
    "pct=False: 是否以百分比的形式返回排名。"
   ],
   "metadata": {}
  },
  {
   "cell_type": "code",
   "execution_count": null,
   "source": [
    "df['平均值排名'] = df['销量'].rank(ascending=True)\r\n",
    "df['顺序排序'] = df['销量'].rank(method='first', numeric_only=True)\r\n",
    "df['最大值排名'] = df['销量'].rank(method='max', pct=True)\r\n",
    "\r\n",
    "print(df)\r\n"
   ],
   "outputs": [],
   "metadata": {}
  },
  {
   "cell_type": "markdown",
   "source": [
    "## 按行排序\r\n",
    "\r\n",
    "没有新的函数，还是上面这三个函数，只是需要用到axis参数。"
   ],
   "metadata": {}
  },
  {
   "cell_type": "code",
   "execution_count": null,
   "source": [
    "# 按行排序\r\n",
    "\r\n",
    "cf = pd.read_excel('F:/project2_pandas/Python数据分析从入门到精通/MR/Code/03/49/books.xls')\r\n",
    "\r\n",
    "cf.info()\r\n",
    "cf.head()\r\n",
    "\r\n",
    "cf1 = cf.sort_values(by = 0,axis=1)\r\n",
    "cf1.head()"
   ],
   "outputs": [],
   "metadata": {}
  }
 ],
 "metadata": {
  "orig_nbformat": 4,
  "language_info": {
   "name": "python",
   "version": "3.7.3",
   "mimetype": "text/x-python",
   "codemirror_mode": {
    "name": "ipython",
    "version": 3
   },
   "pygments_lexer": "ipython3",
   "nbconvert_exporter": "python",
   "file_extension": ".py"
  },
  "kernelspec": {
   "name": "python3",
   "display_name": "Python 3.7.3 64-bit ('datasis': conda)"
  },
  "interpreter": {
   "hash": "23af2e7f8b5f312083290759f8645aeecc9aee3176c1547a7d573ec1e4f85042"
  }
 },
 "nbformat": 4,
 "nbformat_minor": 2
}