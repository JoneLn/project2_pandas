{
 "cells": [
  {
   "cell_type": "markdown",
   "source": [
    "# 数据的增加、修改和删除\r\n"
   ],
   "metadata": {}
  },
  {
   "cell_type": "code",
   "execution_count": null,
   "source": [
    "import pandas as pd\r\n",
    "pd.set_option('display.unicode.east_asian_width', True)"
   ],
   "outputs": [],
   "metadata": {}
  },
  {
   "cell_type": "code",
   "execution_count": null,
   "source": [
    "\r\n",
    "data = [[1,2,3],[3,2,1],[2,2,2]]\r\n",
    "columns = ['天','地','人']\r\n",
    "index = ['金','木','水']\r\n",
    "\r\n",
    "df = pd.DataFrame(data=data, columns=columns, index=index)\r\n",
    "df.head()"
   ],
   "outputs": [],
   "metadata": {}
  },
  {
   "cell_type": "code",
   "execution_count": null,
   "source": [
    "# 增加数据--按列添加\r\n",
    "df['亓']=[3,3,3]\r\n",
    "df.head\r\n",
    "\r\n",
    "df.loc[:,'亓'] = [3,3,3]\r\n",
    "df.head()\r\n",
    "\r\n",
    "qi = [3,3,3]\r\n",
    "df.insert(4,'精',qi)\r\n",
    "# 不能插入重复列名\r\n",
    "df.head()"
   ],
   "outputs": [],
   "metadata": {}
  },
  {
   "cell_type": "code",
   "execution_count": null,
   "source": [
    "# 增加数据--按行添加数据\r\n",
    "df.loc['火'] = [1,2,3,3,3]\r\n",
    "df.head()\r\n",
    "\r\n",
    "df_insert = pd.DataFrame({'天':[1,0],'地':[3,0],'人':[2,0],'亓':[3,0],'精':[3,0]},index=['土','无'])\r\n",
    "df=df.append(df_insert)\r\n",
    "# 可以反复插入相同行名\r\n",
    "print(df)"
   ],
   "outputs": [],
   "metadata": {}
  },
  {
   "cell_type": "code",
   "execution_count": null,
   "source": [
    "# 修改数据--修改列标题\r\n",
    "df.columns=['天','地','人','亓','神']\r\n",
    "df.columns\r\n",
    "\r\n",
    "df.rename(columns={\"亓\":'气'}, inplace = True)\r\n",
    "df.columns\r\n",
    "\r\n",
    "df.rename(columns={'气':'亓','神':'精'},inplace=True)\r\n",
    "df.head()"
   ],
   "outputs": [],
   "metadata": {}
  },
  {
   "cell_type": "code",
   "execution_count": null,
   "source": [
    "# 修改数据--修改行标题\r\n",
    "df.index=list('123456')\r\n",
    "print(df)\r\n",
    "\r\n",
    "df.rename({'1': '金', '2': '木', '3': '水', '4': '火',\r\n",
    "           '5': '土'}, axis=0, inplace=True)\r\n",
    "print(df)\r\n",
    "df.index\r\n"
   ],
   "outputs": [],
   "metadata": {}
  },
  {
   "cell_type": "code",
   "execution_count": null,
   "source": [
    "# 修改数据\r\n",
    "# 直接使用loc/iloc定位到想要修改的数据，然后复制即可\r\n",
    "df.loc['6','天']=3\r\n",
    "\r\n",
    "df.iloc[5,4]=3\r\n",
    "df.loc['6',:]=df.loc['6',:] + 1\r\n",
    "df.values"
   ],
   "outputs": [],
   "metadata": {}
  },
  {
   "cell_type": "markdown",
   "source": [
    "## 删除数据\r\n",
    "```python\r\n",
    "df.drop(labels=None, axis=0, index=None, columns=None,level=None, inplace=False, errors='raise')\r\n",
    "```\r\n",
    "labels: 表示行标签或者列标签；\r\n",
    "\r\n",
    "axis: 0代表按行删除，1代表按列删除，默认为0；\r\n",
    "\r\n",
    "index: 删除行。默认值为None；\r\n",
    "\r\n",
    "columns: 删除列。默认值为None；\r\n",
    "\r\n",
    "level: 针对有两级索引的数据。level=0，表示按第一级索引删除整行，默认值为None；\r\n",
    "\r\n",
    "inplace: 可选参数，确定是否替换原数组；\r\n",
    "\r\n",
    "errors: 参数值为ignore或raise，默认值为raise，若改为ignore，则取消错误。\r\n"
   ],
   "metadata": {}
  },
  {
   "cell_type": "code",
   "execution_count": null,
   "source": [
    "# 删除行\r\n",
    "df.drop(index='6', axis=0, inplace=True)\r\n",
    "print(df)"
   ],
   "outputs": [],
   "metadata": {}
  },
  {
   "cell_type": "code",
   "execution_count": null,
   "source": [
    "# 删除列\r\n",
    "df.drop(columns='精', axis=1, inplace=True)\r\n",
    "print(df)"
   ],
   "outputs": [],
   "metadata": {}
  },
  {
   "cell_type": "code",
   "execution_count": null,
   "source": [
    "# 删除特定行\r\n",
    "df.drop(index=df[df['人'].isin([1])].index[0],inplace=True)\r\n",
    "print(df)\r\n",
    "\"\"\"\r\n",
    "解析：上面的还可以理解，\r\n",
    "首先将\"人\"这一列的数据提取出来--df['人']\r\n",
    "然后检查是否存在与后面集合中的数据--df['人'].isin([1])\r\n",
    "如果存在则将该数据对应的行索引提取出来--df[df['人'].isin([1])].index[0]\r\n",
    "最后就是正常的删除行数据了\r\n",
    "\"\"\"\r\n"
   ],
   "outputs": [],
   "metadata": {}
  },
  {
   "cell_type": "code",
   "execution_count": null,
   "source": [
    "df.drop(index=df[df['天']<2].index[0],inplace=True)\r\n",
    "print(df)"
   ],
   "outputs": [],
   "metadata": {}
  }
 ],
 "metadata": {
  "orig_nbformat": 4,
  "language_info": {
   "name": "python",
   "version": "3.7.3",
   "mimetype": "text/x-python",
   "codemirror_mode": {
    "name": "ipython",
    "version": 3
   },
   "pygments_lexer": "ipython3",
   "nbconvert_exporter": "python",
   "file_extension": ".py"
  },
  "kernelspec": {
   "name": "python3",
   "display_name": "Python 3.7.3 64-bit ('datasis': conda)"
  },
  "interpreter": {
   "hash": "23af2e7f8b5f312083290759f8645aeecc9aee3176c1547a7d573ec1e4f85042"
  }
 },
 "nbformat": 4,
 "nbformat_minor": 2
}