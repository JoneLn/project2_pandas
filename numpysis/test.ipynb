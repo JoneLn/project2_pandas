{
 "cells": [
  {
   "cell_type": "code",
   "execution_count": 2,
   "metadata": {},
   "outputs": [
    {
     "name": "stdout",
     "output_type": "stream",
     "text": [
      "(array([ 5,  6,  7,  8,  9, 10], dtype=int64),)\n",
      "['0' '0' '0' '0' '0' 'w' 'w' 'w' 'w' 'w' 'w']\n"
     ]
    }
   ],
   "source": [
    "import numpy as np\n",
    "\n",
    "n1 = np.arange(1,12,1)\n",
    "print(np.where(n1 > 5))\n",
    "\n",
    "# 检索满足条件的值，满足条件后输出某一个值，不满足条件输出其他值(想尝试以下，可否输出汉字)\n",
    "print(np.where(n1 > 5, 'w', 0))\n"
   ]
  }
 ],
 "metadata": {
  "interpreter": {
   "hash": "23af2e7f8b5f312083290759f8645aeecc9aee3176c1547a7d573ec1e4f85042"
  },
  "kernelspec": {
   "display_name": "Python 3.7.3 64-bit ('datasis': conda)",
   "name": "python3"
  },
  "language_info": {
   "codemirror_mode": {
    "name": "ipython",
    "version": 3
   },
   "file_extension": ".py",
   "mimetype": "text/x-python",
   "name": "python",
   "nbconvert_exporter": "python",
   "pygments_lexer": "ipython3",
   "version": "3.7.3"
  },
  "orig_nbformat": 4
 },
 "nbformat": 4,
 "nbformat_minor": 2
}
