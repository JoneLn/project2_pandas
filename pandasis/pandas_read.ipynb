{
 "cells": [
  {
   "cell_type": "markdown",
   "source": [
    "# pandas导入外部数据"
   ],
   "metadata": {}
  },
  {
   "cell_type": "code",
   "execution_count": null,
   "source": [
    "import pandas as pd\r\n",
    "# 列名对齐\r\n",
    "pd.set_option('display.unicode.east_asian_width',True)"
   ],
   "outputs": [],
   "metadata": {}
  },
  {
   "cell_type": "markdown",
   "source": [
    "## 导入.XLS或.xlsx文件"
   ],
   "metadata": {}
  },
  {
   "cell_type": "markdown",
   "source": [
    "```python\r\n",
    "pd.read_excel(io,sheet_name=0,header=0,names=None,index_col=None,usecols=None,squeeze=False,\r\n",
    "dtype=None,engine=None,converters=None,true_values=None,false_values=None,skiprows=None,nrow=None,\r\n",
    "na_values=None,keep_default_na=True,verbose=False,date_parser=None,thousands=None,comment=None,\r\n",
    "skipfooter=0,convert_float=True,mangle_dupe_cols=True,**kwds)\r\n",
    "```\r\n",
    "io:文件路径或类文件对象；\r\n",
    "\r\n",
    "sheet_name: 通过字符串\\整数\\字符串列表\\整数列表来索引单个或多个工作表。默认值为0；\r\n",
    "\r\n",
    "header: 制定作为列名的行，默认值为0，即第一行为列名，根据实际表头来确定header；\r\n",
    "\r\n",
    "names：默认值为None，要使用的列名列表；\r\n",
    "\r\n",
    "idex_col:指定列为索引列，默认值为None，索引0是DataFrame的行标签；\r\n",
    "\r\n",
    "usecols: 可以是int\\list列表\\字符串，默认值为None。导入指定列；\r\n",
    "\r\n",
    "squeeze:布尔值，默认值为None，如果解析的数据只包含一列，则返回一个series;\r\n",
    "\r\n",
    "dtype:列的数据类型名称或字典，默认值为None。（不懂）\r\n",
    "\r\n",
    "skiprows:省略指定行数的数据，从第一行开始；\r\n",
    "\r\n",
    "skipfooter:省略指定行数的数据，从最后一行开始。"
   ],
   "metadata": {}
  },
  {
   "cell_type": "code",
   "execution_count": null,
   "source": [
    "\r\n",
    "# 导入工作表(不指定工作表，则默认第一个)\r\n",
    "df = pd.read_excel('F:/project2_pandas/Python数据分析从入门到精通/MR/Code/03/12/1月.xlsx')\r\n",
    "df1= df.head()\r\n",
    "print(df1)\r\n"
   ],
   "outputs": [],
   "metadata": {}
  },
  {
   "cell_type": "code",
   "execution_count": null,
   "source": [
    "# 导入指定工作表\r\n",
    "df = pd.read_excel('F:/project2_pandas/Python数据分析从入门到精通/MR/Code/03/12/1月.xlsx',sheet_name='莫寒')\r\n",
    "df.head()\r\n"
   ],
   "outputs": [],
   "metadata": {}
  },
  {
   "cell_type": "code",
   "execution_count": null,
   "source": [
    "# names这个属性还真是一般不用，大部分时间不用去管，就是默认值就好\r\n",
    "df = pd.read_excel('F:/project2_pandas/Python数据分析从入门到精通/MR/Code/03/12/1月.xlsx',sheet_name='莫寒',names='联系手机')\r\n",
    "df.head()"
   ],
   "outputs": [],
   "metadata": {}
  },
  {
   "cell_type": "code",
   "execution_count": null,
   "source": [
    "# 为表格指定行索引\r\n",
    "# 指定买家会员名为行索引\r\n",
    "df = pd.read_excel('F:/project2_pandas/Python数据分析从入门到精通/MR/Code/03/12/1月.xlsx',index_col=0)\r\n",
    "df.head()\r\n"
   ],
   "outputs": [],
   "metadata": {}
  },
  {
   "cell_type": "code",
   "execution_count": null,
   "source": [
    "# 设置列索引\r\n",
    "# 第一行为列索引\r\n",
    "df = pd.read_excel('F:/project2_pandas/Python数据分析从入门到精通/MR/Code/03/12/1月.xlsx',index_col=0, header=0)\r\n",
    "df.head()\r\n",
    "\r\n",
    "# 列索引为默认数字\r\n",
    "df1 = pd.read_excel('F:/project2_pandas/Python数据分析从入门到精通/MR/Code/03/12/1月.xlsx',header=None)\r\n",
    "df1.head()\r\n"
   ],
   "outputs": [],
   "metadata": {}
  },
  {
   "cell_type": "code",
   "execution_count": null,
   "source": [
    "# 导入制定列数据\r\n",
    "df = pd.read_excel('F:/project2_pandas/Python数据分析从入门到精通/MR/Code/03/12/1月.xlsx',usecols=[0])\r\n",
    "df1 = pd.read_excel('F:/project2_pandas/Python数据分析从入门到精通/MR/Code/03/12/1月.xlsx', usecols=[0,3])\r\n",
    "df2 = pd.read_excel('F:/project2_pandas/Python数据分析从入门到精通/MR/Code/03/12/1月.xlsx', usecols=['买家会员名','收货人姓名'])\r\n",
    "\r\n",
    "print(df.head())\r\n",
    "print(df1.head())\r\n",
    "print(df2.head())"
   ],
   "outputs": [],
   "metadata": {}
  },
  {
   "cell_type": "markdown",
   "source": [
    "## 导入.csv文件"
   ],
   "metadata": {}
  },
  {
   "cell_type": "markdown",
   "source": [
    "```python\r\n",
    "pd.read_csv(filepath_or_buffer=\"xxx\",sep=',',delimiter=None,header='infer',names=None, index_col=None,\r\n",
    "usecols=None, squeeze = False, prefix=None, mangle_dupe_cols=True, dtype=None, engine=None, converters=None, \r\n",
    "true_values=None, false_values=None, skipinitialspace=False, skiprows=None, nrows=None, na_values=None,\r\n",
    "keep_default_na=True, na_filter=True, verbose=False, skip_blank_lines=True, parse_dates=False, \r\n",
    "infer_datetime_format=False, keep_date_col=False, date_parser=None, dayfirst=False, iterator=False, \r\n",
    "chunksize=None, compression='infer', thousands=None, decimal=b'.', lineterminator=None, \r\n",
    "quotechar=\"\", quoting=0, escapechar=None,  comment=None, encoding=None)\r\n",
    "```\r\n",
    "常用参数说明：\r\n",
    "filepath_or_buffer: 字符串，文件路径或者URL链接；\r\n",
    "\r\n",
    "sep\\delimiter: 字符串、分隔符；\r\n",
    "\r\n",
    "header:见第一节；\r\n",
    "\r\n",
    "names:见第一节；\r\n",
    "\r\n",
    "index_col:见第一节；\r\n",
    "\r\n",
    "usecols:见第一节；\r\n",
    "\r\n",
    "dtype:见第一节；\r\n",
    "\r\n",
    "parse_dates: 通过该参数将某列直接转换为datetime64日期类型。\r\n",
    "\r\n",
    "encoding：编码。"
   ],
   "metadata": {}
  },
  {
   "cell_type": "code",
   "execution_count": null,
   "source": [
    "df = pd.read_csv('F:/project2_pandas/Python数据分析从入门到精通/MR/Code/03/16/1月.csv',encoding='gbk')\r\n",
    "df.head()\r\n"
   ],
   "outputs": [],
   "metadata": {}
  },
  {
   "cell_type": "markdown",
   "source": [
    "## 导入.txt文件\r\n",
    "同样使用pd.read_csv()函数来读取，不同的是，必须指定分隔符。"
   ],
   "metadata": {}
  },
  {
   "cell_type": "code",
   "execution_count": null,
   "source": [
    "df = pd.read_csv('F:/project2_pandas/Python数据分析从入门到精通/MR/Code/03/17/1月.txt',sep='\\t', encoding='gbk')\r\n",
    "df.head()\r\n"
   ],
   "outputs": [],
   "metadata": {}
  },
  {
   "cell_type": "markdown",
   "source": [
    "## 导入HTML网页"
   ],
   "metadata": {}
  },
  {
   "cell_type": "markdown",
   "source": [
    "```PYTHON\r\n",
    "pd.read_html(io,match='.+', flavor=None, header=None, index_col=None, skiprows=None,\r\n",
    "attrs=None, parse_dates=False, thousands=',', encoding=None, decimal=',', converters=None, \r\n",
    "na_values=None, keep_default_na=True, displayed_only=True)\r\n",
    "```\r\n",
    "常用参数说明：\r\n",
    "io: 字符串，文件路径或者URL链接。不接受https网址，可以去掉s，如http://www.baidu.com；\r\n",
    "\r\n",
    "match: 正则表达式，返回与正则表达式匹配的表格；\r\n",
    "\r\n",
    "flavor: 解析器默认为lxml；\r\n",
    "\r\n",
    "header: 确定列标题所在行；\r\n",
    "\r\n",
    "index_col: 指定行索引；\r\n",
    "\r\n",
    "encoding: 编码方式。\r\n",
    "\r\n",
    "ps：使用pd.read_html()，首先要检查网页表格是否为table类型，或者含有<table>····</table>的字样"
   ],
   "metadata": {}
  },
  {
   "cell_type": "code",
   "execution_count": null,
   "source": [
    "df = pd.DataFrame()\r\n",
    "url_list = ['http://www.espn.com/nba/salaries/_/seasontype/4']\r\n",
    "for i in range(2,13):\r\n",
    "    url = 'http://www.espn.com/nba/salaries/_/page/%s/seasontype/4'%i\r\n",
    "    url_list.append(url)\r\n",
    "# 遍历网页中的table读取网页表格数据\r\n",
    "for url in url_list:\r\n",
    "    df = df.append(pd.read_html(url), ignore_index=True)\r\n",
    "# 列表解析：遍历dataframe第三列，以字符串$开头\r\n",
    "df = df[[x.startswith('$') for x in df[3]]]\r\n",
    "# 导出为csv文件\r\n",
    "df.to_csv('F: / project2_pandas/Python数据分析从入门到精通/NBA.csv', header=['RK','NAME','TEAM','SALARY'],index=False)\r\n"
   ],
   "outputs": [],
   "metadata": {}
  }
 ],
 "metadata": {
  "orig_nbformat": 4,
  "language_info": {
   "name": "python",
   "version": "3.7.3",
   "mimetype": "text/x-python",
   "codemirror_mode": {
    "name": "ipython",
    "version": 3
   },
   "pygments_lexer": "ipython3",
   "nbconvert_exporter": "python",
   "file_extension": ".py"
  },
  "kernelspec": {
   "name": "python3",
   "display_name": "Python 3.7.3 64-bit ('datasis': conda)"
  },
  "interpreter": {
   "hash": "23af2e7f8b5f312083290759f8645aeecc9aee3176c1547a7d573ec1e4f85042"
  }
 },
 "nbformat": 4,
 "nbformat_minor": 2
}