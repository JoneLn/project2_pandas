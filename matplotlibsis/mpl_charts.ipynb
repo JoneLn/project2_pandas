{
 "cells": [
  {
   "cell_type": "markdown",
   "metadata": {},
   "source": [
    "# 常用图表的绘制\n",
    "\n",
    "## 目录\n",
    "\n",
    "1. 绘制折线图\n",
    "2. 绘制柱形图\n",
    "3. 绘制直方图\n",
    "4. 绘制饼形图\n",
    "5. 绘制散点图\n",
    "6. 绘制面积图\n",
    "7. 绘制热力图\n",
    "8. 绘制箱形图\n",
    "9. 绘制3D图\n",
    "10. 绘制多个子图表\n",
    "11. 图表保存"
   ]
  },
  {
   "cell_type": "code",
   "execution_count": 13,
   "metadata": {},
   "outputs": [],
   "source": [
    "## 准备工作\n",
    "\n",
    "import pandas as pd\n",
    "import matplotlib.pyplot as plt\n",
    "\n",
    "# 设置表格对齐\n",
    "pd.set_option('display.unicode.east_asian_width', True)\n",
    "\n",
    "# 解决中文乱码\n",
    "plt.rcParams['font.sans-serif'] = ['SimHei']"
   ]
  },
  {
   "cell_type": "code",
   "execution_count": null,
   "metadata": {},
   "outputs": [],
   "source": [
    "## 绘制折线图\n",
    "\n",
    "x = [1,2,3,4,5]\n",
    "\n",
    "y_1 = [1,2,3,4,5]\n",
    "y_2 = [2,2,3,1,5]\n",
    "y_3 = [5,4,3,2,1]\n",
    "\n",
    "plt.plot(x,y_1, label='y_1', linestyle='-')\n",
    "plt.plot(x,y_2, label='y_2', linestyle='-.')\n",
    "plt.plot(x,y_3, label='y_3', linestyle=':')\n",
    "\n",
    "plt.title('y1y2y3')\n",
    "plt.legend(['y_1','y_2','y_3'])\n",
    "plt.show\n"
   ]
  },
  {
   "cell_type": "markdown",
   "metadata": {},
   "source": [
    "## 绘制柱形图\n",
    "\n",
    "```python\n",
    "plt.bar(x, height=y, width=0.8, bottom=None, *, align='center', data=None, **kwargs)\n",
    "```\n",
    "\n",
    "参数|含义\n",
    "|:-:|:-:|\n",
    "x | x 轴数据，可以是列表，可以是序列\n",
    "height = y| y轴数据\n",
    "width = 0.8| 直方图宽度\n",
    "bottom = None | 柱形图的 y 坐标，可选参数， 标量或数组\n",
    "\"*\" | 本身不是参数，表示其后的参数为关键字参数\n",
    "align = 'center' | 对齐方式\n",
    "data = None | 一般不用\n",
    "**kwargs | 包含多个参数，如下\n",
    "color | 颜色\n",
    "alpha | 透明度[0,1]\n",
    "label | 标签"
   ]
  },
  {
   "cell_type": "markdown",
   "metadata": {},
   "source": [
    "## 绘制直方图\n",
    "\n",
    "统计一组数据中，落在各个统计区间的数据的数量。\n",
    "```python\n",
    "plt.hist(x, bins=None, range=None, density=None, bottom=None, \n",
    "        histtype='bar', align='mid', log=False, color=None, \n",
    "        label=None, stacked=False, normed=None)\n",
    "```\n",
    "\n",
    "参数|含义\n",
    ":-:|:-:\n",
    "x | x 轴数据\n",
    "bins=None | 统计数据的区间分布（直方图宽度）\n",
    "range=None | 元组类型，显示的区间\n",
    "density=None | 是否显示频率统计结果\n",
    "bottom=None | 直方图的y坐标\n",
    "histtype='bar' | 推荐默认值，不用管\n",
    "align='mid' | 推荐使用默认值，不用管\n",
    "log=False | y坐标是否选择指数刻度\n",
    "color=None | 颜色\n",
    "facecolor | 主体颜色\n",
    "edgecolor | 边缘颜色\n",
    "label=None | 标签\n",
    "stacked=False | 是否为堆积柱状图\n",
    "normed=None|"
   ]
  },
  {
   "cell_type": "markdown",
   "metadata": {},
   "source": [
    "## 绘制饼形图\n",
    "```python\n",
    "plt.pie(x, explode=None, labels=None, autopct=None, pctdistance=0.6, \n",
    "shadow=False, labeldistance=1.1, satrtangle=None, radius=None, \n",
    "counterclock=True, wedgeprops=None, textprops=None, center=(0,0), \n",
    "frame=False, rotatelabels=False, hold=None, data=None)\n",
    "```\n",
    "\n",
    "参数|含义\n",
    ":-:|:-:\n",
    "x | 每一块饼图的比列，如果sum(x)>1，会自动归一化处理\n",
    "explode=None | 每一块饼图与中心的距离，默认为0，多层饼图是会用到\n",
    "labels=None | 每一块饼图外侧显示的说明文字\n",
    "autopct=None | 设置饼图百分比的格式(format())\n",
    "pctdistance=0.6 | 指定百分比的位置刻度，默认值为6\n",
    "shadow=False | 是否添加阴影\n",
    "labeldistance=1.1 | label的绘制位置，默认1.1在饼图外侧，小于1时在饼图内侧\n",
    "satrtangle=None | 起始绘制角度，默认值\n",
    "radius=None | 饼图半径，默认为1\n",
    "counterclock=True | 指定指针方向，默认值逆时针\n",
    "wedgeprops=None | 字典类型，传递参数\n",
    "textprops=None | 设置标签和比例文字的格式\n",
    "center=(0,0) | 浮点类型的列表\n",
    "frame=False | 是否显示轴框架\n",
    "rotatelabels=False | 是否旋转每个标签到指定角度\n",
    "hold=None | 没有解释，默认就好\n",
    "data=None | 默认"
   ]
  },
  {
   "cell_type": "markdown",
   "metadata": {},
   "source": [
    "## 绘制散点图\n",
    "\n",
    "散点图主要用来查看数据的分布情况或相关性，一般用在线性回归分析中，查看数据点在坐标系平面上的分布情况。散点图表示因变量随自变量变化而变化的大致趋势，据此可以选择合适的函数对数据点进行拟合。\n",
    "\n",
    "```python\n",
    "plt.scatter(x, y, s=None, marker=None, cmap=None, norm=None, \n",
    "            vmin=None, vmax=None, alpha=None, linewidths=None, \n",
    "            edgecolors=None, data= n one , data=None, **kwargs)\n",
    "```\n",
    "\n",
    "一般而言，使用默认值就好。\n",
    "\n",
    "`plt.scatter(x,y)`\n",
    "\n"
   ]
  },
  {
   "cell_type": "markdown",
   "metadata": {},
   "source": [
    "## 绘制面积图\n",
    "\n",
    "面积图用于体现数量随时间而变化的程度，也可以引起人们对总值趋势的注意。\n",
    "\n",
    "```python\n",
    "plt.stackplot(x,*args, data=None, **kwargs)\n",
    "```\n",
    "\n",
    "一般出现**kwargs就是可以设置颜色，形状等关键参数。\n",
    "\n",
    "主要还是使用默认，或者简单的添加颜色设置等。\n",
    "\n",
    "`plt.stackplot(x,y)`\n",
    "\n",
    "`plt.stackplot(x, y1, y2, y3, y4, colors=['r','g','k','b'])`"
   ]
  },
  {
   "cell_type": "markdown",
   "metadata": {},
   "source": [
    "## 绘制热力图\n",
    "\n",
    "热力图是通过密度函数进行可视化用于表示地图中的点的密度的热图。"
   ]
  },
  {
   "cell_type": "code",
   "execution_count": 12,
   "metadata": {},
   "outputs": [
    {
     "data": {
      "text/plain": [
       "<matplotlib.image.AxesImage at 0x29ed20c64a8>"
      ]
     },
     "execution_count": 12,
     "metadata": {},
     "output_type": "execute_result"
    },
    {
     "data": {
      "image/png": "[encoded data removed]",
      "text/plain": [
       "<Figure size 432x288 with 1 Axes>"
      ]
     },
     "metadata": {
      "needs_background": "light"
     },
     "output_type": "display_data"
    }
   ],
   "source": [
    "\n",
    "X= [[1,2],[30,4],[5,6],[7,8],[9,19]]\n",
    "# 列表中每一个小列表代表一条记录，也代表热力图有几行；\n",
    "# 每个小列表中有几个数据代表热力图有几列；\n",
    "# 列表中数值越大，颜色越明显。\n",
    "plt.imshow(X)"
   ]
  },
  {
   "cell_type": "code",
   "execution_count": 15,
   "metadata": {},
   "outputs": [
    {
     "data": {
      "text/plain": [
       "Text(0.5, 1.0, '高二一班学生成绩热力图')"
      ]
     },
     "execution_count": 15,
     "metadata": {},
     "output_type": "execute_result"
    },
    {
     "data": {
      "image/png": "[encoded data removed]",
      "text/plain": [
       "<Figure size 432x288 with 2 Axes>"
      ]
     },
     "metadata": {
      "needs_background": "light"
     },
     "output_type": "display_data"
    }
   ],
   "source": [
    "df = pd.read_excel('F:/project2_pandas/Python数据分析从入门到精通/MR/Code/05/29/data1.xls', sheet_name='高二一班')\n",
    "\n",
    "X = df.loc[:,'语文':'生物'].values\n",
    "\n",
    "name = df['姓名']\n",
    "\n",
    "plt.imshow(X)\n",
    "\n",
    "plt.xticks(range(0,6,1),labels=['语文','数学','英语','物理','化学','生物'])\n",
    "plt.yticks(range(0,12,1), labels=name)\n",
    "\n",
    "plt.colorbar()\n",
    "\n",
    "plt.title('高二一班学生成绩热力图')\n"
   ]
  },
  {
   "cell_type": "markdown",
   "metadata": {},
   "source": [
    "## 绘制箱形图\n",
    "\n",
    "等到需要用的时候再学吧。"
   ]
  },
  {
   "cell_type": "code",
   "execution_count": 16,
   "metadata": {},
   "outputs": [
    {
     "data": {
      "text/plain": [
       "{'whiskers': [<matplotlib.lines.Line2D at 0x29ed1eb1a90>,\n",
       "  <matplotlib.lines.Line2D at 0x29ed1eb1d30>,\n",
       "  <matplotlib.lines.Line2D at 0x29ed1eadef0>,\n",
       "  <matplotlib.lines.Line2D at 0x29ed1f46208>,\n",
       "  <matplotlib.lines.Line2D at 0x29ed1f28358>,\n",
       "  <matplotlib.lines.Line2D at 0x29ed1f28630>],\n",
       " 'caps': [<matplotlib.lines.Line2D at 0x29ed1eb1f98>,\n",
       "  <matplotlib.lines.Line2D at 0x29ed1ead320>,\n",
       "  <matplotlib.lines.Line2D at 0x29ed1f464e0>,\n",
       "  <matplotlib.lines.Line2D at 0x29ed1f467b8>,\n",
       "  <matplotlib.lines.Line2D at 0x29ed1f28908>,\n",
       "  <matplotlib.lines.Line2D at 0x29ed1f28be0>],\n",
       " 'boxes': [<matplotlib.lines.Line2D at 0x29ed1eb1780>,\n",
       "  <matplotlib.lines.Line2D at 0x29ed1eadbe0>,\n",
       "  <matplotlib.lines.Line2D at 0x29ed1f28080>],\n",
       " 'medians': [<matplotlib.lines.Line2D at 0x29ed1ead5f8>,\n",
       "  <matplotlib.lines.Line2D at 0x29ed1f46a90>,\n",
       "  <matplotlib.lines.Line2D at 0x29ed1f28eb8>],\n",
       " 'fliers': [<matplotlib.lines.Line2D at 0x29ed1ead8d0>,\n",
       "  <matplotlib.lines.Line2D at 0x29ed1f46d68>,\n",
       "  <matplotlib.lines.Line2D at 0x29ed1f341d0>],\n",
       " 'means': []}"
      ]
     },
     "execution_count": 16,
     "metadata": {},
     "output_type": "execute_result"
    },
    {
     "data": {
      "image/png": "[encoded data removed]",
      "text/plain": [
       "<Figure size 432x288 with 1 Axes>"
      ]
     },
     "metadata": {
      "needs_background": "light"
     },
     "output_type": "display_data"
    }
   ],
   "source": [
    "x1 = [1,2,3,5,7,9]\n",
    "x2 = [10,22,13,15,8,19]\n",
    "x3 = [18,31,18,19,14,29]\n",
    "\n",
    "plt.boxplot([x1,x2,x3])"
   ]
  },
  {
   "cell_type": "markdown",
   "metadata": {},
   "source": [
    "## 绘制3D图\n",
    "\n",
    "以后再说。"
   ]
  },
  {
   "cell_type": "markdown",
   "metadata": {},
   "source": [
    "## 绘制多个子图\n",
    "\n",
    "1. subplot()函数\n",
    "\n",
    "`plt.subplot(a,b,c)`\n",
    "\n",
    "将画布分为a行b列共a*b个小画布，并且在第c个画布上开始绘图。\n"
   ]
  },
  {
   "cell_type": "code",
   "execution_count": 23,
   "metadata": {},
   "outputs": [
    {
     "data": {
      "text/plain": [
       "<BarContainer object of 4 artists>"
      ]
     },
     "execution_count": 23,
     "metadata": {},
     "output_type": "execute_result"
    },
    {
     "data": {
      "image/png": "[encoded data removed]",
      "text/plain": [
       "<Figure size 432x288 with 3 Axes>"
      ]
     },
     "metadata": {
      "needs_background": "light"
     },
     "output_type": "display_data"
    }
   ],
   "source": [
    "plt.subplot(2,2,1)\n",
    "plt.plot([1,2,3,4,5])\n",
    "\n",
    "plt.subplot(2,2,2)\n",
    "plt.plot([1,2,3,4,5],[23,45,32,12,10])\n",
    "\n",
    "plt.subplot(2,1,2)\n",
    "plt.bar([1,2,3,4],[12,34,45,23])"
   ]
  },
  {
   "cell_type": "markdown",
   "metadata": {},
   "source": [
    "2. subplots()函数\n",
    "\n",
    "figure, axes = plt.subplots(2, 2)\n",
    "\n",
    "通过subplots()将画布划分为几个小画布，并赋值到axes上\n",
    "\n",
    "使用axes[a,b].plot() 代替 plt.plot()"
   ]
  },
  {
   "cell_type": "code",
   "execution_count": 22,
   "metadata": {},
   "outputs": [
    {
     "data": {
      "text/plain": [
       "([<matplotlib.patches.Wedge at 0x29ed1fba438>,\n",
       "  <matplotlib.patches.Wedge at 0x29ed20095c0>,\n",
       "  <matplotlib.patches.Wedge at 0x29ed2009f60>,\n",
       "  <matplotlib.patches.Wedge at 0x29ed3418160>],\n",
       " [Text(1.0561053188606118, 0.30763867681799334, ''),\n",
       "  Text(0.4889435567719143, 0.9853599333701518, ''),\n",
       "  Text(-0.9795166539798681, 0.500546825557893, ''),\n",
       "  Text(0.29514427953617817, -1.0596649726479923, '')])"
      ]
     },
     "execution_count": 22,
     "metadata": {},
     "output_type": "execute_result"
    },
    {
     "data": {
      "image/png": "[encoded data removed]",
      "text/plain": [
       "<Figure size 432x288 with 4 Axes>"
      ]
     },
     "metadata": {
      "needs_background": "light"
     },
     "output_type": "display_data"
    }
   ],
   "source": [
    "figure, axes = plt.subplots(2, 2)\n",
    "axes[0, 0].plot([1,1,1,11])\n",
    "\n",
    "axes[0, 1].plot([1,2,3,4],[2,4,5,6])\n",
    "\n",
    "axes[1, 0].bar([1,2,3],[11,12,16])\n",
    "\n",
    "axes[1, 1].pie([12,23,43,55])\n",
    "\n"
   ]
  },
  {
   "cell_type": "markdown",
   "metadata": {},
   "source": [
    "3. add_subplot()函数\n",
    "\n",
    "```python\n",
    "fig = plt.figure()\n",
    "\n",
    "ax1 = fig.add_subplot(2,3,1)\n",
    "ax2 = fig.add_subplot(2,3,2)\n",
    "ax3 = fig.add_subplot(2,3,3)\n",
    "ax4 = fig.add_subplot(2,3,4)\n",
    "ax5 = fig.add_subplot(2,3,5)\n",
    "ax6 = fig.add_subplot(2,3,6)\n",
    "```"
   ]
  },
  {
   "cell_type": "markdown",
   "metadata": {},
   "source": [
    "## 保存图表\n",
    "\n",
    "`plt.savefig('image.png')`"
   ]
  }
 ],
 "metadata": {
  "interpreter": {
   "hash": "23af2e7f8b5f312083290759f8645aeecc9aee3176c1547a7d573ec1e4f85042"
  },
  "kernelspec": {
   "display_name": "Python 3.7.3 64-bit ('datasis': conda)",
   "name": "python3"
  },
  "language_info": {
   "codemirror_mode": {
    "name": "ipython",
    "version": 3
   },
   "file_extension": ".py",
   "mimetype": "text/x-python",
   "name": "python",
   "nbconvert_exporter": "python",
   "pygments_lexer": "ipython3",
   "version": "3.7.3"
  },
  "orig_nbformat": 4
 },
 "nbformat": 4,
 "nbformat_minor": 2
}
