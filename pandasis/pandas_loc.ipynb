{
 "cells": [
  {
   "cell_type": "markdown",
   "source": [
    "# 数据抽取\r\n",
    "\r\n",
    "loc属性：以列名(column)和行名(index)作为参数，当只有一个参数时，默认是行名。\r\n",
    "\r\n",
    "iloc属性：以行和列的位置索引(0,1,2...)作为参数，0表示第一行（列）。"
   ],
   "metadata": {}
  },
  {
   "cell_type": "code",
   "execution_count": 1,
   "source": [
    "import pandas as pd \r\n",
    "pd.set_option('display.unicode.east_asian_width', True)"
   ],
   "outputs": [],
   "metadata": {}
  },
  {
   "cell_type": "code",
   "execution_count": 33,
   "source": [
    "data = [[11,12,13],[12,13,14],[13,14,15],[14,15,16]]\r\n",
    "columns = ['语文','数学','英语']\r\n",
    "index = ['lili','anan','dan','zhu']\r\n",
    "df = pd.DataFrame(data=data, columns=columns,index=index)\r\n",
    "\r\n",
    "# 一般而言下面所有代码需要写入print()才能显示，否则只显示最后一个\r\n",
    "# ','代表行列分明，只有添加第二个','时，才需要添加[]，以避免混淆。\r\n",
    "\r\n"
   ],
   "outputs": [],
   "metadata": {}
  },
  {
   "cell_type": "code",
   "execution_count": 34,
   "source": [
    "# 抽取某一行的数据\r\n",
    "df.loc['lili']\r\n",
    "# 抽取某行某列的特定单元格的数据\r\n",
    "df.loc['lili', '语文']\r\n",
    "# 抽取某一行的数据\r\n",
    "df.iloc[0]\r\n",
    "# 抽取某行某列的特定单元格的数据\r\n",
    "df.iloc[0, 0]"
   ],
   "outputs": [
    {
     "output_type": "execute_result",
     "data": {
      "text/plain": [
       "11"
      ]
     },
     "metadata": {},
     "execution_count": 34
    }
   ],
   "metadata": {}
  },
  {
   "cell_type": "code",
   "execution_count": 35,
   "source": [
    "# 抽取多行数据\r\n",
    "# 抽取任意多行数据\r\n",
    "df.loc[['lili', 'dan']]\r\n",
    "df.iloc[[0, 2]]\r\n",
    "# 抽取连续多行数据\r\n",
    "df.loc['lili':'anan']\r\n",
    "df.loc[:'anan']\r\n",
    "df.loc['anan':]\r\n",
    "df.iloc[1:3]\r\n",
    "df.iloc[:3]\r\n",
    "df.iloc[2:]"
   ],
   "outputs": [
    {
     "output_type": "execute_result",
     "data": {
      "text/html": [
       "<div>\n",
       "<style scoped>\n",
       "    .dataframe tbody tr th:only-of-type {\n",
       "        vertical-align: middle;\n",
       "    }\n",
       "\n",
       "    .dataframe tbody tr th {\n",
       "        vertical-align: top;\n",
       "    }\n",
       "\n",
       "    .dataframe thead th {\n",
       "        text-align: right;\n",
       "    }\n",
       "</style>\n",
       "<table border=\"1\" class=\"dataframe\">\n",
       "  <thead>\n",
       "    <tr style=\"text-align: right;\">\n",
       "      <th></th>\n",
       "      <th>语文</th>\n",
       "      <th>数学</th>\n",
       "      <th>英语</th>\n",
       "    </tr>\n",
       "  </thead>\n",
       "  <tbody>\n",
       "    <tr>\n",
       "      <th>dan</th>\n",
       "      <td>13</td>\n",
       "      <td>14</td>\n",
       "      <td>15</td>\n",
       "    </tr>\n",
       "    <tr>\n",
       "      <th>zhu</th>\n",
       "      <td>14</td>\n",
       "      <td>15</td>\n",
       "      <td>16</td>\n",
       "    </tr>\n",
       "  </tbody>\n",
       "</table>\n",
       "</div>"
      ],
      "text/plain": [
       "     语文  数学  英语\n",
       "dan    13    14    15\n",
       "zhu    14    15    16"
      ]
     },
     "metadata": {},
     "execution_count": 35
    }
   ],
   "metadata": {}
  },
  {
   "cell_type": "code",
   "execution_count": 36,
   "source": [
    "# 抽取列数据\r\n",
    "print(df['语文'])\r\n",
    "print(df.loc[:, '语文':'英语'])\r\n",
    "print(df.iloc[:, [0, 1]])"
   ],
   "outputs": [
    {
     "output_type": "stream",
     "name": "stdout",
     "text": [
      "lili    11\n",
      "anan    12\n",
      "dan     13\n",
      "zhu     14\n",
      "Name: 语文, dtype: int64\n",
      "      语文  数学  英语\n",
      "lili    11    12    13\n",
      "anan    12    13    14\n",
      "dan     13    14    15\n",
      "zhu     14    15    16\n",
      "      语文  数学\n",
      "lili    11    12\n",
      "anan    12    13\n",
      "dan     13    14\n",
      "zhu     14    15\n"
     ]
    }
   ],
   "metadata": {}
  },
  {
   "cell_type": "code",
   "execution_count": 45,
   "source": [
    "# 抽取行、列数据\r\n",
    "print(df.loc[['lili','anan'],['语文','数学']])\r\n",
    "print(df.loc['lili':'dan','语文':'英语'])\r\n",
    "print(df.iloc[0:2,0:1]) # 这种形式下输出结果不包含:右边的数据\r\n",
    "print(df.iloc[[0,2],[0,1]])\r\n",
    "\r\n",
    "# 下面两各输出结果是有区别的。\r\n",
    "print(df.iloc[0,1])\r\n",
    "print(df.iloc[[0],[1]])\r\n"
   ],
   "outputs": [
    {
     "output_type": "stream",
     "name": "stdout",
     "text": [
      "      语文  数学\n",
      "lili    11    12\n",
      "anan    12    13\n",
      "      语文  数学  英语\n",
      "lili    11    12    13\n",
      "anan    12    13    14\n",
      "dan     13    14    15\n",
      "      语文\n",
      "lili    11\n",
      "anan    12\n",
      "      语文  数学\n",
      "lili    11    12\n",
      "dan     13    14\n",
      "12\n",
      "      数学\n",
      "lili    12\n"
     ]
    }
   ],
   "metadata": {}
  },
  {
   "cell_type": "code",
   "execution_count": 54,
   "source": [
    "# 按照指定条件获取数据\r\n",
    "df.loc[(df['语文']>10) &( df['数学']<14)]"
   ],
   "outputs": [
    {
     "output_type": "execute_result",
     "data": {
      "text/html": [
       "<div>\n",
       "<style scoped>\n",
       "    .dataframe tbody tr th:only-of-type {\n",
       "        vertical-align: middle;\n",
       "    }\n",
       "\n",
       "    .dataframe tbody tr th {\n",
       "        vertical-align: top;\n",
       "    }\n",
       "\n",
       "    .dataframe thead th {\n",
       "        text-align: right;\n",
       "    }\n",
       "</style>\n",
       "<table border=\"1\" class=\"dataframe\">\n",
       "  <thead>\n",
       "    <tr style=\"text-align: right;\">\n",
       "      <th></th>\n",
       "      <th>语文</th>\n",
       "      <th>数学</th>\n",
       "      <th>英语</th>\n",
       "    </tr>\n",
       "  </thead>\n",
       "  <tbody>\n",
       "    <tr>\n",
       "      <th>lili</th>\n",
       "      <td>11</td>\n",
       "      <td>12</td>\n",
       "      <td>13</td>\n",
       "    </tr>\n",
       "    <tr>\n",
       "      <th>anan</th>\n",
       "      <td>12</td>\n",
       "      <td>13</td>\n",
       "      <td>14</td>\n",
       "    </tr>\n",
       "  </tbody>\n",
       "</table>\n",
       "</div>"
      ],
      "text/plain": [
       "      语文  数学  英语\n",
       "lili    11    12    13\n",
       "anan    12    13    14"
      ]
     },
     "metadata": {},
     "execution_count": 54
    }
   ],
   "metadata": {}
  }
 ],
 "metadata": {
  "orig_nbformat": 4,
  "language_info": {
   "name": "python",
   "version": "3.7.3",
   "mimetype": "text/x-python",
   "codemirror_mode": {
    "name": "ipython",
    "version": 3
   },
   "pygments_lexer": "ipython3",
   "nbconvert_exporter": "python",
   "file_extension": ".py"
  },
  "kernelspec": {
   "name": "python3",
   "display_name": "Python 3.7.3 64-bit ('datasis': conda)"
  },
  "interpreter": {
   "hash": "23af2e7f8b5f312083290759f8645aeecc9aee3176c1547a7d573ec1e4f85042"
  }
 },
 "nbformat": 4,
 "nbformat_minor": 2
}