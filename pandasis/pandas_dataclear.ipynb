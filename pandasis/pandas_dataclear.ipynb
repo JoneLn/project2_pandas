{
 "cells": [
  {
   "cell_type": "markdown",
   "source": [
    "# 数据清洗\r\n",
    "\r\n",
    "## 缺失值处理\r\n",
    "## 重复值处理\r\n",
    "## 异常值检测与处理"
   ],
   "metadata": {}
  },
  {
   "cell_type": "code",
   "execution_count": 1,
   "source": [
    "import pandas as pd \r\n",
    "pd.set_option('display.unicode.east_asian_width',True)"
   ],
   "outputs": [],
   "metadata": {}
  },
  {
   "cell_type": "code",
   "execution_count": null,
   "source": [
    "# 缺失值处理\r\n",
    "\r\n",
    "# 导入文件\r\n",
    "df = pd.read_excel('F:/project2_pandas/Python数据分析从入门到精通/MR/Code/03/37/TB2018.xls')\r\n",
    "df.head()\r\n",
    "\r\n",
    "##  查看索引，数据类型和内存信息，初步查看是否有缺失值\r\n",
    "print(df.info())\r\n",
    "\"\"\"\r\n",
    "通过查看表格内存与数据信息，可以得知：\r\n",
    "1. 有6列，10行数据；\r\n",
    "2. 宝贝数量和类别各有2个缺失值。\r\n",
    "\"\"\"\r\n",
    "\r\n",
    "# 通过控制判断是否具有缺失值（只适用于数据量较小的情况）\r\n",
    "print(df.isnull())\r\n",
    "print(df.notnull())\r\n",
    "\r\n",
    "\r\n",
    "# 缺失值删除与填充\r\n",
    "'''\r\n",
    "通过分析缺失值重要性以及缺失值数量，来判断删除还是填充缺失值\r\n",
    "比如，通过上述缺失值分析，宝贝数量为重要索引，缺少该值，则该记录将在很大程度上无法发挥分析作用，\r\n",
    "且缺失值较少，若将其删除，不影响整体分析，则可以将其所在记录删除。\r\n",
    "但是，类别不属于重要分析项目，可以有缺失值，也可以根据表格对齐填充。\r\n",
    "'''\r\n",
    "\r\n",
    "# 删除所有包含缺失值的记录\r\n",
    "df1 = df.dropna()\r\n",
    "\r\n",
    "# 删除特定索引列中缺失值所在的记录\r\n",
    "df2 = df[df['宝贝总数量'].notnull()]\r\n",
    "\r\n",
    "# 缺失值填充（将类别列中的缺失值填充为‘图书’）\r\n",
    "df2['类别'] = df2['类别'].fillna('图书')\r\n",
    "\r\n",
    "print(df1)\r\n",
    "print(df2)\r\n"
   ],
   "outputs": [],
   "metadata": {}
  },
  {
   "cell_type": "code",
   "execution_count": null,
   "source": [
    "# 重复值处理\r\n",
    "\r\n",
    "# 导入文件\r\n",
    "df = pd.read_excel(\r\n",
    "    'F:/project2_pandas/Python数据分析从入门到精通/MR/Code/03/40/1月.xlsx')\r\n",
    "df.head()"
   ],
   "outputs": [],
   "metadata": {}
  },
  {
   "cell_type": "code",
   "execution_count": null,
   "source": [
    "# 判断每一行数据是否重复（完全相同）\r\n",
    "df.duplicated()\r\n",
    "\r\n",
    "# 去除全部的重复数据（默认保留重复数据的第一行）\r\n",
    "df1 = df.drop_duplicates()\r\n",
    "\r\n",
    "# 去除指定列的重复数据（默认保留重复数据的第一行）\r\n",
    "df2 = df.drop_duplicates(['买家会员名'])\r\n",
    "\r\n",
    "# 去除制定列的重复数据，保留重复行的最后一行\r\n",
    "df3 = df.drop_duplicates(['买家会员名'],keep='last')\r\n",
    "\r\n",
    "# 去除指定列的重复数据，不保留所有重复行\r\n",
    "df4 = df.drop_duplicates(['买家会员名'],keep=False)\r\n",
    "\r\n",
    "# 删除重复行后，保留副本\r\n",
    "df5 = df.drop_duplicates(['买家会员名','买家支付宝账号'], inplace=False)\r\n",
    "\r\n",
    "print(df)\r\n",
    "print(df1)\r\n",
    "print(df2)\r\n",
    "print(df3)\r\n",
    "print(df4)\r\n",
    "print(df5)\r\n"
   ],
   "outputs": [],
   "metadata": {}
  },
  {
   "cell_type": "code",
   "execution_count": 20,
   "source": [
    "# 异常值的检测与处理\r\n",
    "\r\n",
    "''' \r\n",
    "在数据分析中异常值是指超出或者低于正常范围的值，检测方法如下：\r\n",
    "(1) 根据给定的范围进行判断，不在范围内即为异常值。\r\n",
    "(2) 均方差。\r\n",
    "在统计学中，如果一个数据分布近似正态分布，\r\n",
    "那么大约68%的数据会在均值的一个标准差范围内，\r\n",
    "大约95%会在两个标准差范围内，\r\n",
    "大约99.7%会在3个标准差范围内。\r\n",
    "(3) 箱形图。\r\n",
    "箱形图是显示一组数据分散情况资料的统计图。\r\n",
    "它可以将数据通过四分位数的形式进行图形化描述。\r\n",
    "箱形图通过上限和下限作为数据分布的边界。\r\n",
    "任何高于上限或者低于下限的数据都可以认为是异常值。\r\n",
    "\r\n",
    "但是，具体如何操作目前还没给出，大概要过几章才有\r\n",
    "'''\r\n",
    "''' \r\n",
    "处理异常值的方法：\r\n",
    "（1） 删除\r\n",
    "（2） 填充\r\n",
    "（3） 当特殊情况处理，研究为何出现异常值。\r\n",
    "'''\r\n"
   ],
   "outputs": [
    {
     "output_type": "execute_result",
     "data": {
      "text/plain": [
       "' \\n处理异常值的方法：\\n（1） 删除\\n（2） 填充\\n（3） 当特殊情况处理，研究为何出现异常值。\\n'"
      ]
     },
     "metadata": {},
     "execution_count": 20
    }
   ],
   "metadata": {}
  },
  {
   "cell_type": "code",
   "execution_count": null,
   "source": [],
   "outputs": [],
   "metadata": {}
  }
 ],
 "metadata": {
  "orig_nbformat": 4,
  "language_info": {
   "name": "python",
   "version": "3.7.3",
   "mimetype": "text/x-python",
   "codemirror_mode": {
    "name": "ipython",
    "version": 3
   },
   "pygments_lexer": "ipython3",
   "nbconvert_exporter": "python",
   "file_extension": ".py"
  },
  "kernelspec": {
   "name": "python3",
   "display_name": "Python 3.7.3 64-bit ('datasis': conda)"
  },
  "interpreter": {
   "hash": "23af2e7f8b5f312083290759f8645aeecc9aee3176c1547a7d573ec1e4f85042"
  }
 },
 "nbformat": 4,
 "nbformat_minor": 2
}