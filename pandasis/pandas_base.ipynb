{
 "cells": [
  {
   "cell_type": "markdown",
   "source": [
    "# Pandas数据分析\r\n",
    "导入文件-数据清理-统计分析-导出文件"
   ],
   "metadata": {}
  },
  {
   "cell_type": "markdown",
   "source": [
    "## pandas对象\r\n",
    "series + DataFrame\r\n",
    "\r\n",
    "pandas是python数据分析重要的库，而Series和DataFrame是pandas库中两个重要的对象和两个重要的数据结构。\r\n",
    "\r\n",
    "*Series:*是带标签的一维同构数组；\r\n",
    "*DataFrame:*是带标签的，大小可变的，二维异构表格。"
   ],
   "metadata": {}
  },
  {
   "cell_type": "code",
   "execution_count": null,
   "source": [
    "# Series对象\r\n",
    "\r\n",
    "import pandas as pd\r\n",
    "s1 = pd.Series([8,54,3])\r\n",
    "print(s1)\r\n",
    "\r\n",
    "'''\r\n",
    "s = pd.Series(data,index=index)\r\n",
    "创建Series对象时需要输入数据和索引，\r\n",
    "数据可以是python字典、多维数组、数值等；\r\n",
    "索引index可以自己定义，也可以采用默认的从0开始的索引。\r\n",
    "'''\r\n",
    "\r\n",
    "s2 = pd.Series([8,45,32],index=['一','二','三'])\r\n",
    "print(s2)\r\n",
    "\r\n",
    "# 通过索引来搜索数据，但是当索引数大于等于2时，需要使用两个[]\r\n",
    "print(s2['一'])\r\n",
    "print(s2[['一','二']])\r\n",
    "print(s2[['一','二','三']])\r\n",
    "\r\n",
    "# 获取全部索引名称或值\r\n",
    "print(s2.index)\r\n",
    "print(s2.values)"
   ],
   "outputs": [],
   "metadata": {}
  },
  {
   "cell_type": "code",
   "execution_count": null,
   "source": [
    "# DataFrame 对象\r\n",
    "\r\n",
    "# 定义数据集\r\n",
    "data = [[2,2,3],[3,3,4],[4,4,5]]\r\n",
    "# 定义行索引\r\n",
    "index = ['ming','lili','ann']\r\n",
    "# 定义列索引\r\n",
    "columns = ['数学','语文','英语']\r\n",
    "# 创建DataFrame表格\r\n",
    "df = pd.DataFrame(data=data, index=index, columns=columns)\r\n",
    "\r\n",
    "'''\r\n",
    "创建DataFrame表格\r\n",
    "df = pd.DataFrame(data=data, index=index, columns=columns, dtype=dtype)\r\n",
    "data: 表示数据，可以是ndarray数组、Series对象、列表、字典等。\r\n",
    "index: 行索引\r\n",
    "columns:列标签\r\n",
    "dtype: 每一列数据的数据类型。pandas数据类型与python本身数据类型有所差异。(见df2)\r\n",
    "'''\r\n",
    "print(df)"
   ],
   "outputs": [],
   "metadata": {}
  },
  {
   "cell_type": "code",
   "execution_count": null,
   "source": [
    "# 使用二维数组创建DataFrame\r\n",
    "# 解决数据输出时列名不对齐的问题\r\n",
    "pd.set_option('display.unicode.east_asian_width',True)\r\n",
    "data = [[110,120,120],[100,125,122],[111,122,133]]\r\n",
    "columns = ['语文','数学','英语']\r\n",
    "df1 = pd.DataFrame(data=data, columns=columns)\r\n",
    "print(df1)\r\n",
    "\r\n"
   ],
   "outputs": [],
   "metadata": {}
  },
  {
   "cell_type": "code",
   "execution_count": null,
   "source": [
    "# 使用字典创建DataFrame\r\n",
    "pd.set_option('display.unicode.east_asian_width', True)\r\n",
    "df2 = pd.DataFrame(\r\n",
    "    {'Pandas dtype':['object','int64','float64','bool','datetime64','timedalta[ns]','category'],\r\n",
    "    'python type':['str','int','float','bool','datetime64[ns]','NA','NA']},\r\n",
    "    index=['字符串','整数','浮点数','布尔值','日期值','日期值','分类']\r\n",
    ")\r\n",
    "print(df2)"
   ],
   "outputs": [],
   "metadata": {}
  },
  {
   "cell_type": "code",
   "execution_count": null,
   "source": [
    "# 遍历表格中每一列\r\n",
    "for col in df.columns:\r\n",
    "    series = df[col]\r\n",
    "    print(series)\r\n"
   ],
   "outputs": [],
   "metadata": {}
  },
  {
   "cell_type": "code",
   "execution_count": null,
   "source": [
    "# DataFrame重要属性\r\n",
    "# 下列属性中一般不用放在print()里面，但是两个属性放在一起运行时，需要将其放在print()里面，否则只显示最后一个属性值。\r\n",
    "\r\n",
    "# 查看所有元素的值\r\n",
    "df.values\r\n",
    "\r\n",
    "#查看所有列的数据类型\r\n",
    "df.dtypes\r\n",
    "\r\n",
    "# 查看行名\r\n",
    "df.index\r\n",
    "\r\n",
    "# 对行名进行重命名\r\n",
    "df.index=['ming','li','an']\r\n",
    "\r\n",
    "# 查看所有列名\r\n",
    "df.columns\r\n",
    "\r\n",
    "# 对列名进行重命名\r\n",
    "df.columns=['语','数','外']\r\n",
    "\r\n",
    "# 行列数据转换\r\n",
    "df.T\r\n",
    "\r\n",
    "# 查看前n条数据（默认前5）\r\n",
    "df.head()\r\n",
    "df.head(2)\r\n",
    "\r\n",
    "# 查看后n行数据（默认后5）\r\n",
    "print(df.tail())\r\n",
    "print(df.tail(2))\r\n",
    "\r\n",
    "# 统计行数和列数（0代表行，1代表列）\r\n",
    "df.shape[0]\r\n",
    "df.shape[1]\r\n",
    "\r\n",
    "# 查看索引。数据类型和内存信息\r\n",
    "df.info()\r\n"
   ],
   "outputs": [],
   "metadata": {}
  },
  {
   "cell_type": "code",
   "execution_count": null,
   "source": [
    "# DataFrame重要函数\r\n",
    "\r\n",
    "# 查看每列的统计汇总信息\r\n",
    "df1.describe()\r\n",
    "\r\n",
    "# 返回每一列中的非空值的个数\r\n",
    "df1.count()\r\n",
    "\r\n",
    "# 返回每一列的和，无法计算则返回空值\r\n",
    "df.sum()\r\n",
    "\r\n",
    "# 返回每一列最大值\r\n",
    "df.max()\r\n",
    "\r\n",
    "# 返回每一列最小值\r\n",
    "df.min()\r\n",
    "\r\n",
    "# 返回最大值所在的自定义索引位置\r\n",
    "df1.idxmax()\r\n",
    "\r\n",
    "# 返回最小值所在的自定义索引位置\r\n",
    "df1.idxmin()\r\n",
    "\r\n",
    "# 返回每一列的平均值\r\n",
    "df1.mean()\r\n",
    "\r\n",
    "# 返回每一列的中位数\r\n",
    "df.median()\r\n",
    "\r\n",
    "# 返回每一列的方差\r\n",
    "df.var()\r\n",
    "\r\n",
    "# 返回每一列的标准差\r\n",
    "df.std()\r\n",
    "\r\n",
    "# 检查表格是否存在空值\r\n",
    "df.isnull() # True为空值\r\n",
    "df.notnull() # True为非空值\r\n",
    "\r\n"
   ],
   "outputs": [],
   "metadata": {}
  }
 ],
 "metadata": {
  "orig_nbformat": 4,
  "language_info": {
   "name": "python",
   "version": "3.7.3",
   "mimetype": "text/x-python",
   "codemirror_mode": {
    "name": "ipython",
    "version": 3
   },
   "pygments_lexer": "ipython3",
   "nbconvert_exporter": "python",
   "file_extension": ".py"
  },
  "kernelspec": {
   "name": "python3",
   "display_name": "Python 3.7.3 64-bit ('datasis': conda)"
  },
  "interpreter": {
   "hash": "23af2e7f8b5f312083290759f8645aeecc9aee3176c1547a7d573ec1e4f85042"
  }
 },
 "nbformat": 4,
 "nbformat_minor": 2
}