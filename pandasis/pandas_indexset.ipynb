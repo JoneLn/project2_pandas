{
 "cells": [
  {
   "cell_type": "markdown",
   "source": [
    "# 索引设置\r\n",
    "\r\n",
    "主要的函数\r\n",
    "\r\n",
    "```python\r\n",
    "# 重新输入索引值（行、列皆可）\r\n",
    "df.reindex(lables=None, index=None, columns=None, axis=None, \r\n",
    "            method=None, copy=True, level=None,fill_value=nan,\r\n",
    "            limit=None,tolerance = None)\r\n",
    "\r\n",
    "# 设置某列为行索引（drop=Ture为删除列记录，改写为0，1，2等默认索引）\r\n",
    "df.set_index(['买家会员名'])\r\n",
    "df.set_index(['买家会员名',drop=True])\r\n",
    "\r\n",
    "# 删除默认值后，重置索引\r\n",
    "df1= df.dropna().reset_index(drop=True)\r\n",
    "```"
   ],
   "metadata": {}
  },
  {
   "cell_type": "code",
   "execution_count": null,
   "source": [
    "import pandas as pd\r\n",
    "pd.set_option('display.unicode.east_asian_width', True)\r\n",
    "\r\n",
    "\r\n",
    "df = pd.read_excel(\r\n",
    "    'F:/project2_pandas/Python数据分析从入门到精通/MR/Code/03/37/TB2018.xls')\r\n",
    "df.head()"
   ],
   "outputs": [],
   "metadata": {}
  },
  {
   "cell_type": "code",
   "execution_count": null,
   "source": [
    "\r\n",
    "''' \r\n",
    "df.reindex(lables=None, index=None, columns=None, axis=None,\r\n",
    "           method=None, copy=True, level=None, fill_value=nan,\r\n",
    "           limit=None, tolerance=None)\r\n",
    "method为填充方法（默认为None，向后填充为bfill/backfill，向前填充为ffill/pad\r\n",
    "fill_value为填充值。默认为NaN，若使用其他值如0，fill_value=0\r\n",
    "该方法手动输入索引信息，\r\n",
    "当输入的索引数量大于表格自身索引数时，则可以使用填充方法，默认填充NaN；\r\n",
    "当输入的索引数量小于表格自身索引数时，则不再显示超过索引数的记录。\r\n",
    "'''\r\n",
    "# 只输入索引数值时，默认为行索引\r\n",
    "df1 = df.reindex([1,2,3,4,5,6])\r\n",
    "print(df1)\r\n",
    "\r\n",
    "# 设置列索引时，需要将已有的列索引重新输入一遍，然后添加新的索引值\r\n",
    "df2 = df.reindex(columns=['买家会员名','买家实际支付金额','宝贝总数量','宝贝标题','类别','订单付款时间','备注'])\r\n",
    "print(df2)\r\n"
   ],
   "outputs": [],
   "metadata": {}
  },
  {
   "cell_type": "code",
   "execution_count": null,
   "source": [
    "# 设置某列为行索引\r\n",
    "df4 = df.set_index(['买家会员名'])\r\n",
    "df4.head()"
   ],
   "outputs": [],
   "metadata": {}
  },
  {
   "cell_type": "code",
   "execution_count": null,
   "source": [
    "# 数据清洗后，设置连续的行索引\r\n",
    "''' \r\n",
    "在进行数据清洗后，删除的记录的索引也会被删除，于是导致索引不连续\r\n",
    "'''\r\n",
    "df6 = df.dropna()\r\n",
    "print(df6.head())\r\n",
    "\r\n",
    "df6 = df.dropna().reset_index(drop=True)\r\n",
    "df.head()"
   ],
   "outputs": [],
   "metadata": {}
  }
 ],
 "metadata": {
  "orig_nbformat": 4,
  "language_info": {
   "name": "python",
   "version": "3.7.3",
   "mimetype": "text/x-python",
   "codemirror_mode": {
    "name": "ipython",
    "version": 3
   },
   "pygments_lexer": "ipython3",
   "nbconvert_exporter": "python",
   "file_extension": ".py"
  },
  "kernelspec": {
   "name": "python3",
   "display_name": "Python 3.7.3 64-bit ('datasis': conda)"
  },
  "interpreter": {
   "hash": "23af2e7f8b5f312083290759f8645aeecc9aee3176c1547a7d573ec1e4f85042"
  }
 },
 "nbformat": 4,
 "nbformat_minor": 2
}