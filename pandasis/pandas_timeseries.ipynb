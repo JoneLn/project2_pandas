{
 "cells": [
  {
   "cell_type": "markdown",
   "source": [
    "# 时间序列\r\n",
    "\r\n",
    "将时间按照不同的频率进行分组，形成新的序列\r\n",
    "\r\n",
    "## 重采样\r\n",
    "\r\n",
    "df.resample('时间刻度', on='date_column')\r\n",
    "\r\n",
    "时间刻度包括'AS/Q/M/W/D/T'即“年、季度、月、星期、天、分钟”\r\n",
    "\r\n",
    "可与对时间刻度前乘以常数，以更改时间刻度大小。如3T。\r\n",
    "\r\n",
    "on='date_column'为可选参数，若不设置，则默认为索引列。\r\n",
    "\r\n",
    "## 时间数列数据汇总\r\n",
    "\r\n",
    "当使用时间序列进行分组统计时，可以使用ohlc()函数统计各个时间序列内的开始值，结束值，最大值，最小值。\r\n",
    "\r\n",
    "df.resample('Q').ohlc()\r\n",
    "\r\n",
    "## 移动窗口数据计算\r\n",
    "\r\n",
    "时点的波动较大，某一点的数据就不能很好的表现它本身的特性，于是就有了“移动窗口”的概念。\r\n",
    "\r\n",
    "简单的说，为了提升数据的可靠性，将某个点的取值扩大到包含这个点的一段区间，用区间值来判断。\r\n",
    "\r\n",
    "```python\r\n",
    "df.rolling(window, min_periods=None, center=Flase, win_type=None, on=None, axis=0, closed=None)\r\n",
    "\r\n",
    "'''\r\n",
    "window：时间窗口的大小 \r\n",
    "min_periods=None：每个窗口最少包含的观测值\r\n",
    "center=Flase：把窗口标签设置为居中\r\n",
    "win_type=None：窗口类型\r\n",
    "on=None：可选参数，使用某列代替索引\r\n",
    "axis=0：默认列操作\r\n",
    "closed=None：定义区间的开闭\r\n",
    "'''\r\n",
    "df.rolling(3, on='date_column').mean()\r\n",
    "```\r\n"
   ],
   "metadata": {}
  }
 ],
 "metadata": {
  "orig_nbformat": 4,
  "language_info": {
   "name": "python",
   "version": "3.7.3"
  },
  "kernelspec": {
   "name": "python3",
   "display_name": "Python 3.7.3 64-bit ('datasis': conda)"
  },
  "interpreter": {
   "hash": "23af2e7f8b5f312083290759f8645aeecc9aee3176c1547a7d573ec1e4f85042"
  }
 },
 "nbformat": 4,
 "nbformat_minor": 2
}