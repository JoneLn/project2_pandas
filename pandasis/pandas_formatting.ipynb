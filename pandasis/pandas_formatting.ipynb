{
 "cells": [
  {
   "cell_type": "markdown",
   "source": [
    "# 数据格式化\r\n",
    "\r\n",
    "## 1 数值类型格式化\r\n",
    "\r\n",
    "### 1.1 设置小数位数\r\n",
    "\r\n",
    "### 1.2 设置百分比\r\n",
    "\r\n",
    "### 1.3 设置千位分隔符\r\n",
    "\r\n",
    "## 2 文本类型格式化\r\n",
    "\r\n",
    "### 2.1 一列数据转换为多列数据\r\n",
    "\r\n",
    "### 2.2 行列转换\r\n",
    "\r\n",
    "## 3 日期类型格式化\r\n",
    "\r\n",
    "### 3.1 批量处理日期数据转换(to_datetime())\r\n",
    "\r\n",
    "### 3.2 日期判断(df['column'].dt.year())\r\n"
   ],
   "metadata": {}
  },
  {
   "cell_type": "code",
   "execution_count": null,
   "source": [
    "import pandas as pd \r\n",
    "import numpy as np\r\n",
    "pd.set_option('display.unicode.east_asian_width',True)\r\n",
    "\r\n",
    "df = pd.read_excel('F:/project2_pandas/Python数据分析从入门到精通/MR/Code/04/47/mingribooks.xls')\r\n",
    "df.info()\r\n",
    "\r\n",
    "ft = pd.DataFrame(np.random.random([5,5]), columns = ['A1','A2','A3','A4','A5'])\r\n",
    "print(ft)"
   ],
   "outputs": [],
   "metadata": {}
  },
  {
   "cell_type": "markdown",
   "source": [
    "## 数值类型格式化"
   ],
   "metadata": {}
  },
  {
   "cell_type": "code",
   "execution_count": null,
   "source": [
    "# 数值类型格式化\r\n",
    "# 设置浮点数小数位数\r\n",
    "''' \r\n",
    "DataFrame.round(decimals=0, *args, **kwargs)\r\n",
    "decimals: 保留的小数位数\r\n",
    "*args: 附加的关键字参数\r\n",
    "**kwargs: 附加的关键字参数\r\n",
    "'''\r\n",
    "\r\n",
    "\r\n",
    "# 所有小数全部设置成为保留小数点后两位\r\n",
    "ft11 = ft.round(2)\r\n",
    "print(ft11.head(2))\r\n",
    "ft11.head(2)\r\n",
    "\r\n",
    "# 也可以使用函数，为所有浮点数保留小数点后两位\r\n",
    "ft12 = ft.applymap(lambda x:'%.2f'%x)\r\n",
    "print(ft12)\r\n",
    "\r\n",
    "# 对不同列应用不同的小数位保留规则\r\n",
    "ft13 = ft.round({'A1':2,'A2':0})\r\n",
    "print(ft13.head(2))\r\n",
    "\r\n",
    "\r\n"
   ],
   "outputs": [],
   "metadata": {}
  },
  {
   "cell_type": "code",
   "execution_count": null,
   "source": [
    "# 设置百分比\r\n",
    "\r\n",
    "''' \r\n",
    "使用format()函数，保留n位小数的百分比形式\r\n",
    "df['new_column'] = df['column'].apply(lambda x: format(x,'.n%'))\r\n",
    "使用map()函数，整列保留n位小数的百分比形式\r\n",
    "df['new_column'] = df['column'].map(lambda x : '{.n%}'.format(x))\r\n",
    "'''\r\n",
    "\r\n",
    "ft['A1百分比'] = ft['A1'].apply(lambda x: format(x,'.2%'))\r\n",
    "print(ft)\r\n",
    "\r\n",
    "ft['A2百分比'] = ft['A2'].map(lambda x: '{:.2%}'.format(x))\r\n",
    "print(ft)"
   ],
   "outputs": [],
   "metadata": {}
  },
  {
   "cell_type": "code",
   "execution_count": null,
   "source": [
    "# 设置千位分隔符\r\n",
    "\r\n",
    "''' \r\n",
    "将数值类型的金额转换为带千位分隔符的字符串\r\n",
    "df['column'] = df['column'].apply(lambda x: format(int(x),','))\r\n",
    "'''\r\n",
    "data = [['1月','199237'],['2月','222222']]\r\n",
    "columns = ['月份','销售额']\r\n",
    "ff = pd.DataFrame(data=data,columns=columns)\r\n",
    "print(ff)\r\n",
    "ff['销售额'] = ff['销售额'].apply(lambda x: format(int(x),','))\r\n",
    "print(ff)"
   ],
   "outputs": [],
   "metadata": {}
  },
  {
   "cell_type": "markdown",
   "source": [
    "## 文本数据格式化"
   ],
   "metadata": {}
  },
  {
   "cell_type": "code",
   "execution_count": null,
   "source": [
    "# 文本型数据格式化\r\n",
    "\r\n",
    "## 一列转多列\r\n",
    "\r\n",
    "''' \r\n",
    "在实际应用中，我们常常需要将复合的文本拆分，如详细的地址拆分为XX省，XX市等，这需要做的就是一列转多列。\r\n",
    "\r\n",
    "函数名称为：split()\r\n",
    "\r\n",
    "Series.str.split(pat=None, n=-1, expand=False)\r\n",
    "\r\n",
    "pat: 可以是字符串、符号或正则表达式，其作为字符串分割的依据，默认为空格；\r\n",
    "\r\n",
    "n: 整型，默认值是-1，0或者-1都将返回所有拆分；\r\n",
    "\r\n",
    "expand: 分割后的结果是否转换为DataFrame，默认值为False。\r\n",
    "\r\n",
    "返回值：系列、索引、dataframe或多重索引。\r\n",
    "'''\r\n",
    "\r\n",
    "sf = pd.read_excel(\r\n",
    "    'F:/project2_pandas/Python数据分析从入门到精通/MR/Code/04/26/mrbooks.xls',usecols=['买家会员名','收货地址'])\r\n",
    "\r\n",
    "sf.head()\r\n",
    "\r\n",
    "series = sf['收货地址'].str.split(' ',expand = True)\r\n",
    "\r\n",
    "sf['省'] = series[0]\r\n",
    "sf['市'] = series[1]\r\n",
    "sf['区'] = series[2]\r\n",
    "\r\n",
    "sf.head()\r\n",
    "\r\n",
    "# 以下仅为尝试以字符串为分隔方式\r\n",
    "sheng = sf['收货地址'].str.split('省')\r\n",
    "print(sheng.head())\r\n"
   ],
   "outputs": [],
   "metadata": {}
  },
  {
   "cell_type": "code",
   "execution_count": null,
   "source": [
    "# 将分割后的多列自动添加到初始表格中\r\n",
    "\r\n",
    "''' \r\n",
    "从上面的代码中，我们看到，如果想要将分割后的数据添加到DataFrame中，需要创建新列，重新赋值等。\r\n",
    "下面的方法，让我们将生成的结果自动衔接到原表格中\r\n",
    "sf=sf.join(sf['column'].str.split())\r\n",
    "'''\r\n",
    "sjf = pd.read_excel(\r\n",
    "    'F:/project2_pandas/Python数据分析从入门到精通/MR/Code/04/26/mrbooks.xls', usecols=['买家会员名', '收货地址'])\r\n",
    "\r\n",
    "sjf = sjf.join(sjf['收货地址'].str.split(' ',expand=True))\r\n",
    "sjf.head()\r\n"
   ],
   "outputs": [],
   "metadata": {}
  },
  {
   "cell_type": "code",
   "execution_count": null,
   "source": [
    "# 行列转换\r\n",
    "\r\n",
    "''' \r\n",
    "# 行转列--针对索引\r\n",
    "DataFrame.stack(level=-1, dropna = True)\r\n",
    "# 列转行--针对索引\r\n",
    "DataFrame.unstack(level=-1, fill_value=None)\r\n",
    "# 列转行--针对数值\r\n",
    "DataFrame.pivot(index=None, columns=None, values=None)\r\n",
    "'''"
   ],
   "outputs": [],
   "metadata": {}
  },
  {
   "cell_type": "code",
   "execution_count": null,
   "source": [
    "ci = pd.read_excel(\r\n",
    "    'F:/project2_pandas/Python数据分析从入门到精通/MR/Code/04/29/grade.xls')\r\n",
    "\r\n",
    "print(ci.head())\r\n",
    "# 行转列\r\n",
    "ci = ci.set_index(['序号', '班级'])\r\n",
    "# 设置2级索引（列表中有几个值，索引为几级）\r\n",
    "# 必须将设置结果重新赋予ci，否则白费力气\r\n",
    "# 设置好行索引之后，其他所有列都将归为一列\r\n",
    "ci1 = ci.stack()\r\n",
    "print(ci1.head())\r\n"
   ],
   "outputs": [],
   "metadata": {}
  },
  {
   "cell_type": "code",
   "execution_count": null,
   "source": [
    "# 列转行\r\n",
    "ic = pd.read_excel(\r\n",
    "    'F:/project2_pandas/Python数据分析从入门到精通/MR/Code/04/30/grade.xls',sheet_name='英语2')\r\n",
    "print(ic.head())\r\n",
    "## 设置多行索引\r\n",
    "ic = ic.set_index(['班级','序号','Unnamed: 2'])\r\n",
    "## 确定好索引后，最后一个行索引下面的值将会成为列索引\r\n",
    "ic = ic.unstack()\r\n",
    "print(ic.head())\r\n"
   ],
   "outputs": [],
   "metadata": {}
  },
  {
   "cell_type": "code",
   "execution_count": null,
   "source": [
    "# 行列转换pivot()\r\n",
    "pv = pd.read_excel(\r\n",
    "    'F:/project2_pandas/Python数据分析从入门到精通/MR/Code/04/30/grade.xls', sheet_name='英语3')\r\n",
    "print(pv.head())\r\n",
    "\r\n",
    "pv = pv.pivot(index='序号',columns='班级',values='得分')\r\n",
    "print(pv)"
   ],
   "outputs": [],
   "metadata": {}
  },
  {
   "cell_type": "markdown",
   "source": [
    "## 日期数据格式化\r\n",
    "\r\n",
    "### 统一日期格式\r\n",
    "\r\n",
    "`DataFrame.to_datetime()`\r\n",
    "\r\n",
    "该函数还有很多参数可以选择，\r\n",
    "\r\n",
    "但是一般不会用到，\r\n",
    "\r\n",
    "什么时候需要用的时候再去百度就好\r\n",
    "\r\n",
    "### 获取日期属性\r\n",
    "df['星期几'] = df['datetime_columns'].dt.day_name()\r\n",
    "\r\n",
    "df['季度'] = df['datetime_columns'].dt.quarter\r\n",
    "\r\n",
    "df['是否年底'] = df['datetime_column'].dt.is_year_end\r\n",
    "\r\n",
    "### 获取某个日期或者日期范围所记录的所有记录\r\n",
    "\r\n",
    "使用DataFrame可以获取某个时间段内所有记录，但是，**前提必须将时间列设置为索引**。\r\n",
    "\r\n",
    "1. 获取2018年所有记录\r\n",
    "df['2018']\r\n",
    "\r\n",
    "2. 获取2018年和2019年所有记录\r\n",
    "   \r\n",
    "df['2018':'2019']\r\n",
    "\r\n",
    "3. 获取2018年5月的所有记录\r\n",
    "\r\n",
    "df['2018_05']\r\n",
    "\r\n",
    "4. 获取某一天的记录\r\n",
    "\r\n",
    "df['2021-01-01':'2020-01-01']\r\n",
    "\r\n",
    "\r\n"
   ],
   "metadata": {}
  }
 ],
 "metadata": {
  "orig_nbformat": 4,
  "language_info": {
   "name": "python",
   "version": "3.7.3",
   "mimetype": "text/x-python",
   "codemirror_mode": {
    "name": "ipython",
    "version": 3
   },
   "pygments_lexer": "ipython3",
   "nbconvert_exporter": "python",
   "file_extension": ".py"
  },
  "kernelspec": {
   "name": "python3",
   "display_name": "Python 3.7.3 64-bit ('datasis': conda)"
  },
  "interpreter": {
   "hash": "23af2e7f8b5f312083290759f8645aeecc9aee3176c1547a7d573ec1e4f85042"
  }
 },
 "nbformat": 4,
 "nbformat_minor": 2
}